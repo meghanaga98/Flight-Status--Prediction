{
 "cells": [
  {
   "cell_type": "markdown",
   "metadata": {
    "id": "b70a54b2-dacc-4751-8505-1fa0a4cc179f"
   },
   "source": [
    "# Flight Status Prediction \n",
    "Data Source: https://www.kaggle.com/datasets/robikscube/flight-delay-dataset-20182022/discussion"
   ]
  },
  {
   "cell_type": "markdown",
   "metadata": {
    "id": "fda0fe12-b67f-496f-91f4-b227c61472c8"
   },
   "source": [
    "## Relevant Definition\n",
    "\n",
    "**1. How are flight delays calculated?**  \n",
    "A flight is counted as \"on time\" if it operated less than 15 minutes later the scheduled time shown in the carriers' Computerized Reservations Systems (CRS). Arrival performance is based on arrival at the gate. Departure performance is based on departure from the gate. Therefore, `DepDel15` is a key indicator of whether a flight is considered delayed.\n",
    "\n",
    "**2. `DepartureDelayGroups`:**\n",
    "Departure Delay intervals, every (15 minutes from <-15 to >180)\n",
    "\n",
    "**3. How are actual time of arrival and departure measured?**  \n",
    "Actual arrival, departure and elapsed times shall be measured by\n",
    "the times at which the aircraft arrived at and departed from the gate or\n",
    "passenger loading area.\n",
    "\n"
   ]
  },
  {
   "cell_type": "markdown",
   "metadata": {
    "id": "f8bf3836-fdd5-44e0-87c2-25eb7e751586",
    "tags": []
   },
   "source": [
    "## 0. Import Libraries and Read Data"
   ]
  },
  {
   "cell_type": "code",
   "execution_count": null,
   "metadata": {
    "id": "I0FZl8g0qL38"
   },
   "outputs": [],
   "source": [
    "from google.colab import drive\n",
    "drive.mount('/content/drive')\n",
    "import pandas as pd\n",
    "import numpy as np\n",
    "import matplotlib.pyplot as plt\n",
    "import seaborn as sns\n",
    "from glob import glob\n",
    "from datetime import datetime\n",
    "import warnings\n",
    "warnings.simplefilter(\"ignore\", UserWarning)\n",
    "\n",
    "pd.set_option(\"display.max_columns\", None)\n",
    "plt.style.use(\"ggplot\")"
   ]
  },
  {
   "cell_type": "code",
   "execution_count": 2,
   "metadata": {
    "executionInfo": {
     "elapsed": 265,
     "status": "ok",
     "timestamp": 1672184021556,
     "user": {
      "displayName": "Kelsey Liu",
      "userId": "09058478055692111406"
     },
     "user_tz": 360
    },
    "id": "72a8010b-a9f1-45c2-9e4e-2e84a4749bd7"
   },
   "outputs": [],
   "source": [
    "# For Later Use to import all data\n",
    "# !ls -GFlash \"/content/drive/MyDrive/Colab/RawData\" | grep parquet\n",
    "# parquet_files = glob(\"../FlightStatus/RawData/*.parquet\")"
   ]
  },
  {
   "cell_type": "code",
   "execution_count": 3,
   "metadata": {
    "executionInfo": {
     "elapsed": 6933,
     "status": "ok",
     "timestamp": 1672184030463,
     "user": {
      "displayName": "Kelsey Liu",
      "userId": "09058478055692111406"
     },
     "user_tz": 360
    },
    "id": "cf356633-bb91-4351-a8f3-fe5f1b6aa528"
   },
   "outputs": [],
   "source": [
    "columns_subset = [\n",
    "    \"FlightDate\",\n",
    "    \"Year\",\n",
    "    \"Month\",\n",
    "    \"DayOfWeek\",\n",
    "    \"Flight_Number_Operating_Airline\",\n",
    "    \"Airline\",\n",
    "    \"Origin\",\n",
    "    \"OriginCityName\",\n",
    "    \"Dest\",\n",
    "    \"DestCityName\",\n",
    "    \"Distance\",\n",
    "    \"Cancelled\",\n",
    "    \"Diverted\",\n",
    "    \"CRSDepTime\",\n",
    "    \"DepTime\", # Actual Departure Time, can be calculated using \"DepDelay\" column.\n",
    "    \"DepDelay\",\n",
    "    \"DepDel15\",\n",
    "    \"CRSArrTime\", # Scheduled Arrival Time, can be calculated using \"CRSElapsedTime\" column.\n",
    "    \"ArrTime\", # Actual Arrival Time, Can be calculated using \"ArrDelay\" column.\n",
    "    \"ArrDelay\",\n",
    "    \"ArrDel15\",\n",
    "    \"CRSElapsedTime\",\n",
    "    \"ActualElapsedTime\",\n",
    "    \"DepartureDelayGroups\",\n",
    "    \"ArrivalDelayGroups\"\n",
    "    #'Quarter', 'DepDelayMinutes', 'ArrDelayMinutes', 'AirTime', 'DayofMonth',\"OriginStateName\", \"DestStateName\",\n",
    "    #'Marketing_Airline_Network', 'Operated_or_Branded_Code_Share_Partners',\n",
    "    #'DOT_ID_Marketing_Airline', 'IATA_Code_Marketing_Airline', 'Flight_Number_Marketing_Airline',\n",
    "    #'Operating_Airline', 'DOT_ID_Operating_Airline', 'IATA_Code_Operating_Airline',\n",
    "    #'Tail_Number','OriginAirportID','OriginAirportSeqID',\n",
    "    #'OriginCityMarketID','OriginState', 'OriginStateFips', 'DestAirportID', 'DestAirportSeqID',\n",
    "    #'DestCityMarketID', 'DestState', 'DestStateFips','OriginWac', 'DestWac', 'DepTimeBlk', 'TaxiOut',\n",
    "    #'WheelsOff', 'WheelsOn', 'TaxiIn', 'ArrTimeBlk', 'DistanceGroup', 'DivAirportLandings'\n",
    "]\n",
    "\n",
    "df_2018 = pd.read_parquet(\n",
    "    \"/content/drive/MyDrive/Colab/RawData/Combined_Flights_2018.parquet\",\n",
    "    columns=columns_subset,\n",
    ").reset_index(drop=True)"
   ]
  },
  {
   "cell_type": "code",
   "execution_count": 4,
   "metadata": {
    "executionInfo": {
     "elapsed": 165,
     "status": "ok",
     "timestamp": 1672184040053,
     "user": {
      "displayName": "Kelsey Liu",
      "userId": "09058478055692111406"
     },
     "user_tz": 360
    },
    "id": "43af7ec8"
   },
   "outputs": [],
   "source": [
    "### Data exploration and overview\n",
    "# df_2018 = pd.read_parquet(\"../FlightStatus/RawData/Combined_Flights_2018.parquet\", engine=\"fastparquet\")\n",
    "# df_2018.columns\n",
    "# df_2018.head()\n",
    "# df_2018.loc[df_2018[\"DepDel15\"] == 1]\n",
    "# df_2018.info()"
   ]
  },
  {
   "cell_type": "markdown",
   "metadata": {
    "id": "9ed0a212-6a1c-4a1a-a7b2-eb460f6c81b9",
    "tags": []
   },
   "source": [
    "## 1. Data Cleaning and Data preprocessing"
   ]
  },
  {
   "cell_type": "code",
   "execution_count": 5,
   "metadata": {
    "executionInfo": {
     "elapsed": 479,
     "status": "ok",
     "timestamp": 1672184042380,
     "user": {
      "displayName": "Kelsey Liu",
      "userId": "09058478055692111406"
     },
     "user_tz": 360
    },
    "id": "bd0255b9-4e76-4daa-9caa-9594daec9a3a"
   },
   "outputs": [],
   "source": [
    "# Rename columns to make them more intuitive and consistent.\n",
    "df_2018 = df_2018.rename(\n",
    "    columns={\n",
    "        \"CRSDepTime\": \"ScheduledDepTime\",\n",
    "        \"CRSElapsedTime\": \"ScheduledElapsedTime\",\n",
    "        \"DepTime\": \"ActualDepTime\",\n",
    "        \"DepDelay\": \"DepDelayMinutes\",\n",
    "        \"CRSArrTime\": \"ScheduledArrTime\",\n",
    "        \"ArrTime\": \"ActualArrTime\",\n",
    "        \"ArrDelay\": \"ArrDelayMinutes\",\n",
    "        \"Flight_Number_Operating_Airline\": \"FlightNumber\",\n",
    "    }\n",
    ")"
   ]
  },
  {
   "cell_type": "code",
   "execution_count": 6,
   "metadata": {
    "executionInfo": {
     "elapsed": 1019,
     "status": "ok",
     "timestamp": 1672184045587,
     "user": {
      "displayName": "Kelsey Liu",
      "userId": "09058478055692111406"
     },
     "user_tz": 360
    },
    "id": "k5nZZ4yQcqSr"
   },
   "outputs": [],
   "source": [
    "# Dropping those records with both Cancelled and Diverted equal true\n",
    "i = df_2018.query(\"Cancelled == True and Diverted == True\").index\n",
    "df_2018.drop(labels=i, axis=0, inplace=True)"
   ]
  },
  {
   "cell_type": "code",
   "execution_count": 7,
   "metadata": {
    "executionInfo": {
     "elapsed": 1018,
     "status": "ok",
     "timestamp": 1672184049105,
     "user": {
      "displayName": "Kelsey Liu",
      "userId": "09058478055692111406"
     },
     "user_tz": 360
    },
    "id": "eAxaw5b2VDNH"
   },
   "outputs": [],
   "source": [
    "# Target label 1: \"DepartureDelayGroups\"\n",
    "# Replace the value with \"cancelled\" and \"diverted\"\n",
    "df_2018.loc[df_2018[\"Cancelled\"], \"DepartureDelayGroups\"] = \"C\"\n",
    "df_2018.loc[df_2018[\"Diverted\"], \"DepartureDelayGroups\" ] = \"D\"\n",
    "# Target label 2: ArrivalDelayGroups\n",
    "# Creating target labels for \"Arrival\" status\n",
    "df_2018.loc[df_2018[\"Cancelled\"], \"ArrivalDelayGroups\"] = \"C\"\n",
    "df_2018.loc[df_2018[\"Diverted\"], \"ArrivalDelayGroups\"] = \"D\""
   ]
  },
  {
   "cell_type": "code",
   "execution_count": 8,
   "metadata": {
    "colab": {
     "base_uri": "https://localhost:8080/"
    },
    "executionInfo": {
     "elapsed": 1410,
     "status": "ok",
     "timestamp": 1672184052283,
     "user": {
      "displayName": "Kelsey Liu",
      "userId": "09058478055692111406"
     },
     "user_tz": 360
    },
    "id": "TX24Itm1tki5",
    "outputId": "b531e78f-d406-47bc-a2e5-b43101e84b37"
   },
   "outputs": [
    {
     "name": "stdout",
     "output_type": "stream",
     "text": [
      "count    1105.0\n",
      "mean        0.0\n",
      "std         0.0\n",
      "min         0.0\n",
      "25%         0.0\n",
      "50%         0.0\n",
      "75%         0.0\n",
      "max         0.0\n",
      "Name: DepDelayMinutes, dtype: float64\n",
      "count    1105.0\n",
      "mean        0.0\n",
      "std         0.0\n",
      "min         0.0\n",
      "25%         0.0\n",
      "50%         0.0\n",
      "75%         0.0\n",
      "max         0.0\n",
      "Name: DepDel15, dtype: float64\n",
      "count     1105\n",
      "unique       1\n",
      "top          0\n",
      "freq      1105\n",
      "Name: DepartureDelayGroups, dtype: int64\n"
     ]
    }
   ],
   "source": [
    "# Check if there's still any unassigned DepartureDelayGroups\n",
    "index_dep = df_2018[df_2018.DepartureDelayGroups.isnull()].index\n",
    "# When \"ScheduledDepTime\" = \"ActualDepTime\", all 3 columns \"DepDelayMinutes\", \"DepDel15\", \"DepartureDelayGroups\" are null\n",
    "# Assign the correct values for these 3 groups\n",
    "df_2018.loc[index_dep, \"DepDelayMinutes\"] = df_2018.loc[index_dep, \"ActualDepTime\"] - df_2018.loc[index_dep, \"ScheduledDepTime\"]\n",
    "df_2018.loc[index_dep, \"DepDel15\"] = 0\n",
    "df_2018.loc[index_dep, \"DepartureDelayGroups\"] = 0\n",
    "\n",
    "print(df_2018.loc[index_dep, \"DepDelayMinutes\"].describe())\n",
    "print(df_2018.loc[index_dep, \"DepDel15\"].describe())\n",
    "print(df_2018.loc[index_dep, \"DepartureDelayGroups\"].describe())"
   ]
  },
  {
   "cell_type": "code",
   "execution_count": 9,
   "metadata": {
    "colab": {
     "base_uri": "https://localhost:8080/"
    },
    "executionInfo": {
     "elapsed": 278,
     "status": "ok",
     "timestamp": 1672184055217,
     "user": {
      "displayName": "Kelsey Liu",
      "userId": "09058478055692111406"
     },
     "user_tz": 360
    },
    "id": "_n2UBidSmcSS",
    "outputId": "5914d276-5d49-4875-b6a6-bf83c58ee8a4"
   },
   "outputs": [
    {
     "name": "stdout",
     "output_type": "stream",
     "text": [
      "count    548.0\n",
      "mean       0.0\n",
      "std        0.0\n",
      "min        0.0\n",
      "25%        0.0\n",
      "50%        0.0\n",
      "75%        0.0\n",
      "max        0.0\n",
      "Name: ArrDelayMinutes, dtype: float64\n",
      "count    567.0\n",
      "mean       0.0\n",
      "std        0.0\n",
      "min        0.0\n",
      "25%        0.0\n",
      "50%        0.0\n",
      "75%        0.0\n",
      "max        0.0\n",
      "Name: ArrDel15, dtype: float64\n",
      "count     567\n",
      "unique      1\n",
      "top         0\n",
      "freq      567\n",
      "Name: ArrivalDelayGroups, dtype: int64\n"
     ]
    }
   ],
   "source": [
    "# Check if there's still any unassigned ArrivalDelayGroups\n",
    "index_arr = df_2018[df_2018.ArrivalDelayGroups.isnull()].index \n",
    "# When \"ScheduledArrTime\" = \"ActualArrTime\", all 3 columns \"ArrDelayMinutes\", \"ArrDel15\", \"ArrivalDelayGroups\" are null\n",
    "# Assign the correct values for these 3 groups\n",
    "df_2018.loc[index_arr, \"ArrDelayMinutes\"] = df_2018.loc[index_arr, \"ActualArrTime\"] - df_2018.loc[index_arr, \"ScheduledArrTime\"]\n",
    "df_2018.loc[index_arr, \"ArrDel15\"] = 0\n",
    "df_2018.loc[index_arr, \"ArrivalDelayGroups\"] = 0\n",
    "\n",
    "print(df_2018.loc[index_arr, \"ArrDelayMinutes\"].describe())\n",
    "print(df_2018.loc[index_arr, \"ArrDel15\"].describe())\n",
    "print(df_2018.loc[index_arr, \"ArrivalDelayGroups\"].describe())"
   ]
  },
  {
   "cell_type": "code",
   "execution_count": 10,
   "metadata": {
    "executionInfo": {
     "elapsed": 799,
     "status": "ok",
     "timestamp": 1672184059387,
     "user": {
      "displayName": "Kelsey Liu",
      "userId": "09058478055692111406"
     },
     "user_tz": 360
    },
    "id": "4ywf_77Tdytf"
   },
   "outputs": [],
   "source": [
    "# Dropping those records with NA values when the flights were neither Cancelled nor Diverted\n",
    "df_2018 = df_2018.loc[~((df_2018['DepartureDelayGroups']!='C') & \\\n",
    "             (df_2018['DepartureDelayGroups']!='D') & \\\n",
    "             (df_2018['ActualElapsedTime'].isnull())),]"
   ]
  },
  {
   "cell_type": "code",
   "execution_count": 11,
   "metadata": {
    "colab": {
     "base_uri": "https://localhost:8080/"
    },
    "executionInfo": {
     "elapsed": 10632,
     "status": "ok",
     "timestamp": 1672184071855,
     "user": {
      "displayName": "Kelsey Liu",
      "userId": "09058478055692111406"
     },
     "user_tz": 360
    },
    "id": "0c6ac853-d7a2-44ec-a820-60392e81b507",
    "outputId": "fa685c7d-90de-4f70-8611-aea295dad35f"
   },
   "outputs": [
    {
     "name": "stdout",
     "output_type": "stream",
     "text": [
      "There are 0 duplicates in dataset\n"
     ]
    }
   ],
   "source": [
    "# Check for duplicates\n",
    "print(\"There are {} duplicates in dataset\".format(len(df_2018[df_2018.duplicated()])))"
   ]
  },
  {
   "cell_type": "code",
   "execution_count": 12,
   "metadata": {
    "executionInfo": {
     "elapsed": 133,
     "status": "ok",
     "timestamp": 1672184079308,
     "user": {
      "displayName": "Kelsey Liu",
      "userId": "09058478055692111406"
     },
     "user_tz": 360
    },
    "id": "RODN-QpzLnsy"
   },
   "outputs": [],
   "source": [
    "### If there is any duplicated rows: Return the duplicated row\n",
    "# df.loc[df.duplicated()] \n",
    "## Dropping the duplicated rows by keeping those not duplicated ones using ~ to inverse, and .reset_index(drop=True) will fix problem of index not necessarily  jumping up by a single number each time\n",
    "# df = df.loc[~df.duplicated(subset=['Coaster_Name','Location','Opening_Date'])].reset_index(drop=True).copy()"
   ]
  },
  {
   "cell_type": "code",
   "execution_count": 13,
   "metadata": {
    "executionInfo": {
     "elapsed": 14365,
     "status": "ok",
     "timestamp": 1672184097433,
     "user": {
      "displayName": "Kelsey Liu",
      "userId": "09058478055692111406"
     },
     "user_tz": 360
    },
    "id": "2bdeb210-1ce6-4098-90ab-377f04f98015",
    "tags": []
   },
   "outputs": [],
   "source": [
    "# print(df.info())\n",
    "# print(df.head())\n",
    "# print(df.columns)\n",
    "\n",
    "# Datatypes - Category\n",
    "category = [\n",
    "    \"Year\",\n",
    "    \"Month\",\n",
    "    \"DayOfWeek\",\n",
    "    \"FlightNumber\",\n",
    "    \"Airline\",\n",
    "    \"Origin\",\n",
    "    \"OriginCityName\",\n",
    "    \"Dest\",\n",
    "    \"DestCityName\",\n",
    "    \"DepartureDelayGroups\",\n",
    "    \"ArrivalDelayGroups\",\n",
    "]\n",
    "\n",
    "for c in category:\n",
    "    df_2018[c] = df_2018[c].astype(\"category\")\n",
    "\n",
    "# Datatypes - Boolean\n",
    "boolean = [\"DepDel15\", \"ArrDel15\"]\n",
    "for b in boolean:\n",
    "    df_2018[b] = df_2018[b].astype(bool)\n",
    "\n",
    "# Datatypes - DateTime Object\n",
    "index = df_2018[df_2018[\"ScheduledDepTime\"] < 10].index\n",
    "df_2018.loc[index,\"ScheduledDepTime\"] = (\n",
    "df_2018[df_2018[\"ScheduledDepTime\"] < 10][\"ScheduledDepTime\"] *10\n",
    ")\n",
    "df_2018[\"ScheduledDepTime\"] = df_2018[\"ScheduledDepTime\"].astype(\"int64\").astype(str)\n",
    "df_2018[\"ScheduledDepTime\"] = pd.to_datetime(df_2018[\"ScheduledDepTime\"],format= '%H%M').dt.time"
   ]
  },
  {
   "cell_type": "code",
   "execution_count": 20,
   "metadata": {
    "executionInfo": {
     "elapsed": 494,
     "status": "ok",
     "timestamp": 1672185099114,
     "user": {
      "displayName": "Kelsey Liu",
      "userId": "09058478055692111406"
     },
     "user_tz": 360
    },
    "id": "bqU79Lpr_WTw"
   },
   "outputs": [],
   "source": [
    "# Remove unwanted columns\n",
    "df_2018 = df_2018.drop([\"ActualDepTime\",\"ScheduledArrTime\",\"ActualArrTime\"], axis=1)"
   ]
  },
  {
   "cell_type": "markdown",
   "metadata": {
    "id": "9b1c596f-1dcc-4a0a-a69f-2dc8f6386dd4"
   },
   "source": [
    "## 2. EDA includes Data visualization"
   ]
  },
  {
   "cell_type": "code",
   "execution_count": 15,
   "metadata": {
    "colab": {
     "base_uri": "https://localhost:8080/"
    },
    "executionInfo": {
     "elapsed": 178,
     "status": "ok",
     "timestamp": 1672184190335,
     "user": {
      "displayName": "Kelsey Liu",
      "userId": "09058478055692111406"
     },
     "user_tz": 360
    },
    "id": "rOYdP8VGOWb3",
    "outputId": "c85d116f-9d3d-422f-c296-251a49a53e66"
   },
   "outputs": [
    {
     "name": "stdout",
     "output_type": "stream",
     "text": [
      "<class 'pandas.core.frame.DataFrame'>\n",
      "Int64Index: 5689489 entries, 0 to 5689511\n",
      "Data columns (total 25 columns):\n",
      " #   Column                Dtype         \n",
      "---  ------                -----         \n",
      " 0   FlightDate            datetime64[ns]\n",
      " 1   Year                  category      \n",
      " 2   Month                 category      \n",
      " 3   DayOfWeek             category      \n",
      " 4   FlightNumber          category      \n",
      " 5   Airline               category      \n",
      " 6   Origin                category      \n",
      " 7   OriginCityName        category      \n",
      " 8   Dest                  category      \n",
      " 9   DestCityName          category      \n",
      " 10  Distance              float64       \n",
      " 11  Cancelled             bool          \n",
      " 12  Diverted              bool          \n",
      " 13  ScheduledDepTime      object        \n",
      " 14  ActualDepTime         float64       \n",
      " 15  DepDelayMinutes       float64       \n",
      " 16  DepDel15              bool          \n",
      " 17  ScheduledArrTime      int64         \n",
      " 18  ActualArrTime         float64       \n",
      " 19  ArrDelayMinutes       float64       \n",
      " 20  ArrDel15              bool          \n",
      " 21  ScheduledElapsedTime  float64       \n",
      " 22  ActualElapsedTime     float64       \n",
      " 23  DepartureDelayGroups  category      \n",
      " 24  ArrivalDelayGroups    category      \n",
      "dtypes: bool(4), category(11), datetime64[ns](1), float64(7), int64(1), object(1)\n",
      "memory usage: 715.4+ MB\n"
     ]
    }
   ],
   "source": [
    "df_2018.info()"
   ]
  },
  {
   "cell_type": "markdown",
   "metadata": {
    "id": "OlQ7NSDGxkM0"
   },
   "source": [
    "### 2.1 Univariate Analysis Visualization"
   ]
  },
  {
   "cell_type": "code",
   "execution_count": 16,
   "metadata": {
    "colab": {
     "base_uri": "https://localhost:8080/",
     "height": 300
    },
    "executionInfo": {
     "elapsed": 1994,
     "status": "ok",
     "timestamp": 1672184225699,
     "user": {
      "displayName": "Kelsey Liu",
      "userId": "09058478055692111406"
     },
     "user_tz": 360
    },
    "id": "cY-MW3UZOGZV",
    "outputId": "2f218137-c2f0-4c67-b1d8-ee06a929c7cd"
   },
   "outputs": [
    {
     "data": {
      "text/html": [
       "\n",
       "  <div id=\"df-fc2b4bb5-9c92-41dd-a26d-13b07581f4fb\">\n",
       "    <div class=\"colab-df-container\">\n",
       "      <div>\n",
       "<style scoped>\n",
       "    .dataframe tbody tr th:only-of-type {\n",
       "        vertical-align: middle;\n",
       "    }\n",
       "\n",
       "    .dataframe tbody tr th {\n",
       "        vertical-align: top;\n",
       "    }\n",
       "\n",
       "    .dataframe thead th {\n",
       "        text-align: right;\n",
       "    }\n",
       "</style>\n",
       "<table border=\"1\" class=\"dataframe\">\n",
       "  <thead>\n",
       "    <tr style=\"text-align: right;\">\n",
       "      <th></th>\n",
       "      <th>Distance</th>\n",
       "      <th>DepDelayMinutes</th>\n",
       "      <th>ArrDelayMinutes</th>\n",
       "      <th>ScheduledElapsedTime</th>\n",
       "      <th>ActualElapsedTime</th>\n",
       "    </tr>\n",
       "  </thead>\n",
       "  <tbody>\n",
       "    <tr>\n",
       "      <th>count</th>\n",
       "      <td>5.689489e+06</td>\n",
       "      <td>5.604021e+06</td>\n",
       "      <td>5.587165e+06</td>\n",
       "      <td>5.689483e+06</td>\n",
       "      <td>5.587165e+06</td>\n",
       "    </tr>\n",
       "    <tr>\n",
       "      <th>mean</th>\n",
       "      <td>7.878035e+02</td>\n",
       "      <td>1.014691e+01</td>\n",
       "      <td>5.415765e+00</td>\n",
       "      <td>1.389092e+02</td>\n",
       "      <td>1.344377e+02</td>\n",
       "    </tr>\n",
       "    <tr>\n",
       "      <th>std</th>\n",
       "      <td>5.943091e+02</td>\n",
       "      <td>4.536480e+01</td>\n",
       "      <td>4.745837e+01</td>\n",
       "      <td>7.288397e+01</td>\n",
       "      <td>7.258416e+01</td>\n",
       "    </tr>\n",
       "    <tr>\n",
       "      <th>min</th>\n",
       "      <td>1.600000e+01</td>\n",
       "      <td>-1.280000e+03</td>\n",
       "      <td>-1.290000e+03</td>\n",
       "      <td>-9.900000e+01</td>\n",
       "      <td>-1.228000e+03</td>\n",
       "    </tr>\n",
       "    <tr>\n",
       "      <th>25%</th>\n",
       "      <td>3.490000e+02</td>\n",
       "      <td>-6.000000e+00</td>\n",
       "      <td>-1.400000e+01</td>\n",
       "      <td>8.600000e+01</td>\n",
       "      <td>8.200000e+01</td>\n",
       "    </tr>\n",
       "    <tr>\n",
       "      <th>50%</th>\n",
       "      <td>6.280000e+02</td>\n",
       "      <td>-2.000000e+00</td>\n",
       "      <td>-6.000000e+00</td>\n",
       "      <td>1.200000e+02</td>\n",
       "      <td>1.170000e+02</td>\n",
       "    </tr>\n",
       "    <tr>\n",
       "      <th>75%</th>\n",
       "      <td>1.024000e+03</td>\n",
       "      <td>7.000000e+00</td>\n",
       "      <td>8.000000e+00</td>\n",
       "      <td>1.700000e+02</td>\n",
       "      <td>1.650000e+02</td>\n",
       "    </tr>\n",
       "    <tr>\n",
       "      <th>max</th>\n",
       "      <td>4.983000e+03</td>\n",
       "      <td>2.625000e+03</td>\n",
       "      <td>2.635000e+03</td>\n",
       "      <td>1.645000e+03</td>\n",
       "      <td>7.570000e+02</td>\n",
       "    </tr>\n",
       "  </tbody>\n",
       "</table>\n",
       "</div>\n",
       "      <button class=\"colab-df-convert\" onclick=\"convertToInteractive('df-fc2b4bb5-9c92-41dd-a26d-13b07581f4fb')\"\n",
       "              title=\"Convert this dataframe to an interactive table.\"\n",
       "              style=\"display:none;\">\n",
       "        \n",
       "  <svg xmlns=\"http://www.w3.org/2000/svg\" height=\"24px\"viewBox=\"0 0 24 24\"\n",
       "       width=\"24px\">\n",
       "    <path d=\"M0 0h24v24H0V0z\" fill=\"none\"/>\n",
       "    <path d=\"M18.56 5.44l.94 2.06.94-2.06 2.06-.94-2.06-.94-.94-2.06-.94 2.06-2.06.94zm-11 1L8.5 8.5l.94-2.06 2.06-.94-2.06-.94L8.5 2.5l-.94 2.06-2.06.94zm10 10l.94 2.06.94-2.06 2.06-.94-2.06-.94-.94-2.06-.94 2.06-2.06.94z\"/><path d=\"M17.41 7.96l-1.37-1.37c-.4-.4-.92-.59-1.43-.59-.52 0-1.04.2-1.43.59L10.3 9.45l-7.72 7.72c-.78.78-.78 2.05 0 2.83L4 21.41c.39.39.9.59 1.41.59.51 0 1.02-.2 1.41-.59l7.78-7.78 2.81-2.81c.8-.78.8-2.07 0-2.86zM5.41 20L4 18.59l7.72-7.72 1.47 1.35L5.41 20z\"/>\n",
       "  </svg>\n",
       "      </button>\n",
       "      \n",
       "  <style>\n",
       "    .colab-df-container {\n",
       "      display:flex;\n",
       "      flex-wrap:wrap;\n",
       "      gap: 12px;\n",
       "    }\n",
       "\n",
       "    .colab-df-convert {\n",
       "      background-color: #E8F0FE;\n",
       "      border: none;\n",
       "      border-radius: 50%;\n",
       "      cursor: pointer;\n",
       "      display: none;\n",
       "      fill: #1967D2;\n",
       "      height: 32px;\n",
       "      padding: 0 0 0 0;\n",
       "      width: 32px;\n",
       "    }\n",
       "\n",
       "    .colab-df-convert:hover {\n",
       "      background-color: #E2EBFA;\n",
       "      box-shadow: 0px 1px 2px rgba(60, 64, 67, 0.3), 0px 1px 3px 1px rgba(60, 64, 67, 0.15);\n",
       "      fill: #174EA6;\n",
       "    }\n",
       "\n",
       "    [theme=dark] .colab-df-convert {\n",
       "      background-color: #3B4455;\n",
       "      fill: #D2E3FC;\n",
       "    }\n",
       "\n",
       "    [theme=dark] .colab-df-convert:hover {\n",
       "      background-color: #434B5C;\n",
       "      box-shadow: 0px 1px 3px 1px rgba(0, 0, 0, 0.15);\n",
       "      filter: drop-shadow(0px 1px 2px rgba(0, 0, 0, 0.3));\n",
       "      fill: #FFFFFF;\n",
       "    }\n",
       "  </style>\n",
       "\n",
       "      <script>\n",
       "        const buttonEl =\n",
       "          document.querySelector('#df-fc2b4bb5-9c92-41dd-a26d-13b07581f4fb button.colab-df-convert');\n",
       "        buttonEl.style.display =\n",
       "          google.colab.kernel.accessAllowed ? 'block' : 'none';\n",
       "\n",
       "        async function convertToInteractive(key) {\n",
       "          const element = document.querySelector('#df-fc2b4bb5-9c92-41dd-a26d-13b07581f4fb');\n",
       "          const dataTable =\n",
       "            await google.colab.kernel.invokeFunction('convertToInteractive',\n",
       "                                                     [key], {});\n",
       "          if (!dataTable) return;\n",
       "\n",
       "          const docLinkHtml = 'Like what you see? Visit the ' +\n",
       "            '<a target=\"_blank\" href=https://colab.research.google.com/notebooks/data_table.ipynb>data table notebook</a>'\n",
       "            + ' to learn more about interactive tables.';\n",
       "          element.innerHTML = '';\n",
       "          dataTable['output_type'] = 'display_data';\n",
       "          await google.colab.output.renderOutput(dataTable, element);\n",
       "          const docLink = document.createElement('div');\n",
       "          docLink.innerHTML = docLinkHtml;\n",
       "          element.appendChild(docLink);\n",
       "        }\n",
       "      </script>\n",
       "    </div>\n",
       "  </div>\n",
       "  "
      ],
      "text/plain": [
       "           Distance  DepDelayMinutes  ArrDelayMinutes  ScheduledElapsedTime  \\\n",
       "count  5.689489e+06     5.604021e+06     5.587165e+06          5.689483e+06   \n",
       "mean   7.878035e+02     1.014691e+01     5.415765e+00          1.389092e+02   \n",
       "std    5.943091e+02     4.536480e+01     4.745837e+01          7.288397e+01   \n",
       "min    1.600000e+01    -1.280000e+03    -1.290000e+03         -9.900000e+01   \n",
       "25%    3.490000e+02    -6.000000e+00    -1.400000e+01          8.600000e+01   \n",
       "50%    6.280000e+02    -2.000000e+00    -6.000000e+00          1.200000e+02   \n",
       "75%    1.024000e+03     7.000000e+00     8.000000e+00          1.700000e+02   \n",
       "max    4.983000e+03     2.625000e+03     2.635000e+03          1.645000e+03   \n",
       "\n",
       "       ActualElapsedTime  \n",
       "count       5.587165e+06  \n",
       "mean        1.344377e+02  \n",
       "std         7.258416e+01  \n",
       "min        -1.228000e+03  \n",
       "25%         8.200000e+01  \n",
       "50%         1.170000e+02  \n",
       "75%         1.650000e+02  \n",
       "max         7.570000e+02  "
      ]
     },
     "execution_count": 16,
     "metadata": {},
     "output_type": "execute_result"
    }
   ],
   "source": [
    "# Statistical Analysis\n",
    "Numerical = [\"Distance\", \"DepDelayMinutes\", \"ArrDelayMinutes\", 'ScheduledElapsedTime', 'ActualElapsedTime']\n",
    "df_2018[Numerical].describe()"
   ]
  },
  {
   "cell_type": "code",
   "execution_count": null,
   "metadata": {
    "colab": {
     "base_uri": "https://localhost:8080/"
    },
    "executionInfo": {
     "elapsed": 72,
     "status": "ok",
     "timestamp": 1671911574492,
     "user": {
      "displayName": "Kelsey Liu",
      "userId": "09058478055692111406"
     },
     "user_tz": 360
    },
    "id": "Ha2RfXa3PaUk",
    "outputId": "69238979-9add-45c3-ca54-ff810b48a7e3"
   },
   "outputs": [
    {
     "data": {
      "text/plain": [
       "Southwest Airlines Co.                       1331609\n",
       "United Air Lines Inc.                         614915\n",
       "SkyWest Airlines Inc.                         522086\n",
       "Delta Air Lines Inc.                          458840\n",
       "American Airlines Inc.                        378722\n",
       "JetBlue Airways                               297758\n",
       "Republic Airlines                             197448\n",
       "Alaska Airlines Inc.                          182705\n",
       "Spirit Air Lines                              174129\n",
       "ExpressJet Airlines Inc.                      161955\n",
       "Mesa Airlines Inc.                            149840\n",
       "Envoy Air                                     123437\n",
       "Frontier Airlines Inc.                        117523\n",
       "Endeavor Air Inc.                             115924\n",
       "Comair Inc.                                   113211\n",
       "Air Wisconsin Airlines Corp                    95565\n",
       "Allegiant Air                                  95192\n",
       "Horizon Air                                    83937\n",
       "Hawaiian Airlines Inc.                         83375\n",
       "Trans States Airlines                          64664\n",
       "GoJet Airlines, LLC d/b/a United Express       62437\n",
       "Commutair Aka Champlain Enterprises, Inc.      45509\n",
       "Compass Airlines                               44680\n",
       "Capital Cargo International                    41818\n",
       "Virgin America                                 17153\n",
       "Empire Airlines Inc.                            8334\n",
       "Cape Air                                        1655\n",
       "Peninsula Airways Inc.                          1121\n",
       "Name: Airline, dtype: int64"
      ]
     },
     "execution_count": 15,
     "metadata": {},
     "output_type": "execute_result"
    }
   ],
   "source": [
    "# Categorical Analysis \n",
    "# 'Year', 'Month', 'DayOfWeek', 'FlightNumber', 'Airline','Origin', 'OriginCityName', \n",
    "# 'Dest', 'DestCityName', 'DepartureDelayGroups', 'ArrivalDelayGroups'\n",
    "df_2018['Airline'].value_counts()"
   ]
  },
  {
   "cell_type": "code",
   "execution_count": null,
   "metadata": {
    "colab": {
     "base_uri": "https://localhost:8080/",
     "height": 425
    },
    "executionInfo": {
     "elapsed": 29738,
     "status": "ok",
     "timestamp": 1671913266750,
     "user": {
      "displayName": "Kelsey Liu",
      "userId": "09058478055692111406"
     },
     "user_tz": 360
    },
    "id": "27f05788-95cb-407d-90d2-154829f4f65d",
    "outputId": "200fedfa-8654-4c09-c321-807828d94d11"
   },
   "outputs": [
    {
     "name": "stderr",
     "output_type": "stream",
     "text": [
      "/usr/local/lib/python3.8/dist-packages/pandas/io/formats/format.py:1429: FutureWarning: Index.ravel returning ndarray is deprecated; in a future version this will return a view on self.\n",
      "  for val, m in zip(values.ravel(), mask.ravel())\n"
     ]
    },
    {
     "data": {
      "image/png": "[encoded data removed]",
      "text/plain": [
       "<Figure size 360x360 with 1 Axes>"
      ]
     },
     "metadata": {},
     "output_type": "display_data"
    }
   ],
   "source": [
    "# Distribution of 'DepartureDelayGroups'\n",
    "sns.catplot(x='DepartureDelayGroups', data=df_2018, kind = 'count')\n",
    "plt.show()\n",
    "pass\n",
    "## -1.0 and 0.0 is the major groups, which is early and on time departure"
   ]
  },
  {
   "cell_type": "code",
   "execution_count": null,
   "metadata": {
    "colab": {
     "base_uri": "https://localhost:8080/",
     "height": 460
    },
    "executionInfo": {
     "elapsed": 32860,
     "status": "ok",
     "timestamp": 1671915208086,
     "user": {
      "displayName": "Kelsey Liu",
      "userId": "09058478055692111406"
     },
     "user_tz": 360
    },
    "id": "5FxFmYgNt58V",
    "outputId": "acfd25d4-b7df-4e78-dcbf-16ded1563399"
   },
   "outputs": [
    {
     "name": "stderr",
     "output_type": "stream",
     "text": [
      "/usr/local/lib/python3.8/dist-packages/pandas/io/formats/format.py:1429: FutureWarning: Index.ravel returning ndarray is deprecated; in a future version this will return a view on self.\n",
      "  for val, m in zip(values.ravel(), mask.ravel())\n",
      "/usr/local/lib/python3.8/dist-packages/pandas/io/formats/format.py:1429: FutureWarning: Index.ravel returning ndarray is deprecated; in a future version this will return a view on self.\n",
      "  for val, m in zip(values.ravel(), mask.ravel())\n"
     ]
    },
    {
     "data": {
      "image/png": "[encoded data removed]",
      "text/plain": [
       "<Figure size 360x360 with 1 Axes>"
      ]
     },
     "metadata": {},
     "output_type": "display_data"
    }
   ],
   "source": [
    "# Distribution of 'ArrivalDelayGroups'\n",
    "sns.catplot(x='ArrivalDelayGroups', data=df_2018, kind = 'count')\n",
    "plt.show()\n",
    "pass"
   ]
  },
  {
   "cell_type": "code",
   "execution_count": null,
   "metadata": {
    "colab": {
     "base_uri": "https://localhost:8080/"
    },
    "executionInfo": {
     "elapsed": 86,
     "status": "ok",
     "timestamp": 1671917265936,
     "user": {
      "displayName": "Kelsey Liu",
      "userId": "09058478055692111406"
     },
     "user_tz": 360
    },
    "id": "1TqQ-OPu-O7i",
    "outputId": "d8bd8c93-617d-4688-b3d8-90f691c9c272"
   },
   "outputs": [
    {
     "name": "stdout",
     "output_type": "stream",
     "text": [
      "The portion of Delayed flights is 0.25\n"
     ]
    }
   ],
   "source": [
    "Not_Delayed = 0\n",
    "Delayed = 0\n",
    "for i in range(-2,13):\n",
    "  if i <= 0:\n",
    "    Not_Delayed = Not_Delayed + len(df_2018[\"DepartureDelayGroups\"] == \"i\")\n",
    "  else:\n",
    "    Delayed = Delayed + len(df_2018[\"DepartureDelayGroups\"] == \"i\")\n",
    "print(\"The portion of Delayed flights is {}\".format(Not_Delayed/Delayed))"
   ]
  },
  {
   "cell_type": "markdown",
   "metadata": {
    "id": "xl-AgtSUBTpn"
   },
   "source": [
    "**Imbalance data**  \n",
    "The portion of Not Delayed Flights to Delayed Flights is about 4 to 1, indicating an issue of imbalance data, which will in turn cause oversampling problem in machine-learning model. Here we will use SMOTE to generate synthetic samples from the Delayed Flights to address this issue."
   ]
  },
  {
   "cell_type": "code",
   "execution_count": null,
   "metadata": {
    "id": "nwyeQqRk6LmJ"
   },
   "outputs": [],
   "source": []
  }
 ],
 "metadata": {
  "colab": {
   "provenance": []
  },
  "gpuClass": "standard",
  "kernelspec": {
   "display_name": "Python 3",
   "language": "python",
   "name": "python3"
  },
  "language_info": {
   "codemirror_mode": {
    "name": "ipython",
    "version": 3
   },
   "file_extension": ".py",
   "mimetype": "text/x-python",
   "name": "python",
   "nbconvert_exporter": "python",
   "pygments_lexer": "ipython3",
   "version": "3.8.3"
  }
 },
 "nbformat": 4,
 "nbformat_minor": 5
}
